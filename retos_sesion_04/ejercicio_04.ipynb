{
 "cells": [
  {
   "cell_type": "markdown",
   "metadata": {},
   "source": [
    "# Juego de Estrategia Simple en Python.\n",
    "\n",
    "## Descripción\n",
    "Este es un juego de estrategia simple. El objetivo es capturar las piezas del oponente mientras proteges las tuyas.\n",
    "\n",
    "Prepárate para desafiar a tu oponente en este juego rápido y divertido!\n",
    "\n",
    "### Reglas del juego\n",
    "- Cada jugador inicia en las 2 esquinas del tablero. \n",
    "- El juego se juega en un tablero de 4x4.\n",
    "- Cada jugador comienza con 2 piezas| representadas por 'X' y 'O'.\n",
    "- Las piezas se mueven alternadamente.\n",
    "- Las piezas pueden moverse una casilla en cualquier dirección (horizontal, vertical u diagonal).\n",
    "- Si una pieza se mueve a una casilla ocupada por una pieza del oponente, la pieza del oponente es capturada y retirada del juego.\n",
    "- Si la que sigue en juego llega al espacio de la pieza perdida, la recupera en el otro extremo del tablero(punto de inicio de la pieza salvadora)\n",
    "- El jugador que capture todas las piezas del oponente gana la partida.\n",
    "\n",
    "### **Tablero de Juego**\n",
    "\n",
    "\n",
    "- --------------------\n",
    "     [  | 1| 2| 3| 4]\n",
    "     [1 |  |  |  |  ]\n",
    "     [2 |  |  |  |  ]\n",
    "     [3 |  |  |  |  ]\n",
    "     [4 |  |  |  |  ]\n",
    "- --------------------\n",
    "\n",
    "\n",
    "### Descripción de las piezas\n",
    "\n",
    "- **X**: Pieza del jugador 1\n",
    "- **O**: Pieza del jugador 2\n"
   ]
  }
 ],
 "metadata": {
  "language_info": {
   "name": "python"
  }
 },
 "nbformat": 4,
 "nbformat_minor": 2
}
