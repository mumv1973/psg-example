# print(type(1))
 

#variable = 100
#print(variable)
#print(type(variable))

"""variable2 = "100"
print(variable2)
print(type(variable2))

print("Base decimal")
print(10)
print("Base binaria")
print(0b1010)

print("Base octal")
print(0o12)

print("Base hexadecimal")
print(0xa)""" 



con1 = 300 # minutos
con2 = 3600 #segundos
hora = 60 # minutos
minuto = 60 #segundos
# con 2 a minutos
a_minutos = con2/minuto
print(f"Total segundos a minutos: {a_minutos}")

total_min = con1 + a_minutos
print(f"Total minutos: {total_min}")



deMinutos_a_horas = total_min / hora

print(f"Total horas: {deMinutos_a_horas}")


print("Total horas: " + str(deMinutos_a_horas))
